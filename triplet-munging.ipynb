{
 "cells": [
  {
   "cell_type": "code",
   "execution_count": 4,
   "metadata": {
    "collapsed": true
   },
   "outputs": [],
   "source": [
    "from sframe import SFrame, aggregate # Note: sframe only supports Python 2.7+ and 3.4.\n",
    "\n",
    "save_munging = True"
   ]
  },
  {
   "cell_type": "code",
   "execution_count": 20,
   "metadata": {
    "collapsed": false
   },
   "outputs": [
    {
     "data": {
      "text/html": [
       "<pre>Read 543905 lines. Lines per second: 159452</pre>"
      ],
      "text/plain": [
       "Read 543905 lines. Lines per second: 159452"
      ]
     },
     "metadata": {},
     "output_type": "display_data"
    },
    {
     "data": {
      "text/html": [
       "<pre>Read 2158490 lines. Lines per second: 254775</pre>"
      ],
      "text/plain": [
       "Read 2158490 lines. Lines per second: 254775"
      ]
     },
     "metadata": {},
     "output_type": "display_data"
    },
    {
     "data": {
      "text/html": [
       "<pre>Read 4262498 lines. Lines per second: 290401</pre>"
      ],
      "text/plain": [
       "Read 4262498 lines. Lines per second: 290401"
      ]
     },
     "metadata": {},
     "output_type": "display_data"
    },
    {
     "data": {
      "text/html": [
       "<pre>Read 5813276 lines. Lines per second: 285590</pre>"
      ],
      "text/plain": [
       "Read 5813276 lines. Lines per second: 285590"
      ]
     },
     "metadata": {},
     "output_type": "display_data"
    },
    {
     "data": {
      "text/html": [
       "<pre>Read 8003538 lines. Lines per second: 303614</pre>"
      ],
      "text/plain": [
       "Read 8003538 lines. Lines per second: 303614"
      ]
     },
     "metadata": {},
     "output_type": "display_data"
    },
    {
     "data": {
      "text/html": [
       "<pre>Read 9664686 lines. Lines per second: 305934</pre>"
      ],
      "text/plain": [
       "Read 9664686 lines. Lines per second: 305934"
      ]
     },
     "metadata": {},
     "output_type": "display_data"
    },
    {
     "data": {
      "text/html": [
       "<pre>Read 11850019 lines. Lines per second: 311951</pre>"
      ],
      "text/plain": [
       "Read 11850019 lines. Lines per second: 311951"
      ]
     },
     "metadata": {},
     "output_type": "display_data"
    },
    {
     "data": {
      "text/html": [
       "<pre>Read 14016226 lines. Lines per second: 305002</pre>"
      ],
      "text/plain": [
       "Read 14016226 lines. Lines per second: 305002"
      ]
     },
     "metadata": {},
     "output_type": "display_data"
    },
    {
     "data": {
      "text/html": [
       "<pre>Read 15582589 lines. Lines per second: 292772</pre>"
      ],
      "text/plain": [
       "Read 15582589 lines. Lines per second: 292772"
      ]
     },
     "metadata": {},
     "output_type": "display_data"
    },
    {
     "data": {
      "text/html": [
       "<pre>Read 17135349 lines. Lines per second: 289599</pre>"
      ],
      "text/plain": [
       "Read 17135349 lines. Lines per second: 289599"
      ]
     },
     "metadata": {},
     "output_type": "display_data"
    },
    {
     "data": {
      "text/html": [
       "<pre>Read 18699672 lines. Lines per second: 290100</pre>"
      ],
      "text/plain": [
       "Read 18699672 lines. Lines per second: 290100"
      ]
     },
     "metadata": {},
     "output_type": "display_data"
    },
    {
     "data": {
      "text/html": [
       "<pre>Read 20301670 lines. Lines per second: 290644</pre>"
      ],
      "text/plain": [
       "Read 20301670 lines. Lines per second: 290644"
      ]
     },
     "metadata": {},
     "output_type": "display_data"
    },
    {
     "data": {
      "text/html": [
       "<pre>Read 21912693 lines. Lines per second: 286081</pre>"
      ],
      "text/plain": [
       "Read 21912693 lines. Lines per second: 286081"
      ]
     },
     "metadata": {},
     "output_type": "display_data"
    },
    {
     "data": {
      "text/html": [
       "<pre>Read 23540208 lines. Lines per second: 285350</pre>"
      ],
      "text/plain": [
       "Read 23540208 lines. Lines per second: 285350"
      ]
     },
     "metadata": {},
     "output_type": "display_data"
    },
    {
     "data": {
      "text/html": [
       "<pre>Read 25145459 lines. Lines per second: 284484</pre>"
      ],
      "text/plain": [
       "Read 25145459 lines. Lines per second: 284484"
      ]
     },
     "metadata": {},
     "output_type": "display_data"
    },
    {
     "data": {
      "text/html": [
       "<pre>Read 26722498 lines. Lines per second: 285465</pre>"
      ],
      "text/plain": [
       "Read 26722498 lines. Lines per second: 285465"
      ]
     },
     "metadata": {},
     "output_type": "display_data"
    },
    {
     "data": {
      "text/html": [
       "<pre>Read 28336739 lines. Lines per second: 283897</pre>"
      ],
      "text/plain": [
       "Read 28336739 lines. Lines per second: 283897"
      ]
     },
     "metadata": {},
     "output_type": "display_data"
    },
    {
     "data": {
      "text/html": [
       "<pre>Read 29947899 lines. Lines per second: 285353</pre>"
      ],
      "text/plain": [
       "Read 29947899 lines. Lines per second: 285353"
      ]
     },
     "metadata": {},
     "output_type": "display_data"
    },
    {
     "data": {
      "text/html": [
       "<pre>Read 32114071 lines. Lines per second: 286868</pre>"
      ],
      "text/plain": [
       "Read 32114071 lines. Lines per second: 286868"
      ]
     },
     "metadata": {},
     "output_type": "display_data"
    },
    {
     "data": {
      "text/html": [
       "<pre>Read 34259056 lines. Lines per second: 288758</pre>"
      ],
      "text/plain": [
       "Read 34259056 lines. Lines per second: 288758"
      ]
     },
     "metadata": {},
     "output_type": "display_data"
    },
    {
     "data": {
      "text/html": [
       "<pre>Read 35889912 lines. Lines per second: 288288</pre>"
      ],
      "text/plain": [
       "Read 35889912 lines. Lines per second: 288288"
      ]
     },
     "metadata": {},
     "output_type": "display_data"
    },
    {
     "data": {
      "text/html": [
       "<pre>Read 37515353 lines. Lines per second: 289103</pre>"
      ],
      "text/plain": [
       "Read 37515353 lines. Lines per second: 289103"
      ]
     },
     "metadata": {},
     "output_type": "display_data"
    },
    {
     "data": {
      "text/html": [
       "<pre>Read 39124082 lines. Lines per second: 289865</pre>"
      ],
      "text/plain": [
       "Read 39124082 lines. Lines per second: 289865"
      ]
     },
     "metadata": {},
     "output_type": "display_data"
    },
    {
     "data": {
      "text/html": [
       "<pre>Read 40699231 lines. Lines per second: 289972</pre>"
      ],
      "text/plain": [
       "Read 40699231 lines. Lines per second: 289972"
      ]
     },
     "metadata": {},
     "output_type": "display_data"
    },
    {
     "data": {
      "text/html": [
       "<pre>Read 42810855 lines. Lines per second: 291117</pre>"
      ],
      "text/plain": [
       "Read 42810855 lines. Lines per second: 291117"
      ]
     },
     "metadata": {},
     "output_type": "display_data"
    },
    {
     "data": {
      "text/html": [
       "<pre>Read 44391810 lines. Lines per second: 290810</pre>"
      ],
      "text/plain": [
       "Read 44391810 lines. Lines per second: 290810"
      ]
     },
     "metadata": {},
     "output_type": "display_data"
    },
    {
     "data": {
      "text/html": [
       "<pre>Read 46563762 lines. Lines per second: 292836</pre>"
      ],
      "text/plain": [
       "Read 46563762 lines. Lines per second: 292836"
      ]
     },
     "metadata": {},
     "output_type": "display_data"
    },
    {
     "data": {
      "text/html": [
       "<pre>Read 48678399 lines. Lines per second: 294190</pre>"
      ],
      "text/plain": [
       "Read 48678399 lines. Lines per second: 294190"
      ]
     },
     "metadata": {},
     "output_type": "display_data"
    },
    {
     "data": {
      "text/html": [
       "<pre>Read 50268107 lines. Lines per second: 294830</pre>"
      ],
      "text/plain": [
       "Read 50268107 lines. Lines per second: 294830"
      ]
     },
     "metadata": {},
     "output_type": "display_data"
    },
    {
     "data": {
      "text/html": [
       "<pre>Read 52410794 lines. Lines per second: 296577</pre>"
      ],
      "text/plain": [
       "Read 52410794 lines. Lines per second: 296577"
      ]
     },
     "metadata": {},
     "output_type": "display_data"
    },
    {
     "data": {
      "text/html": [
       "<pre>Read 54670153 lines. Lines per second: 298323</pre>"
      ],
      "text/plain": [
       "Read 54670153 lines. Lines per second: 298323"
      ]
     },
     "metadata": {},
     "output_type": "display_data"
    },
    {
     "data": {
      "text/html": [
       "<pre>Read 56287351 lines. Lines per second: 298805</pre>"
      ],
      "text/plain": [
       "Read 56287351 lines. Lines per second: 298805"
      ]
     },
     "metadata": {},
     "output_type": "display_data"
    },
    {
     "data": {
      "text/html": [
       "<pre>Read 57931295 lines. Lines per second: 299049</pre>"
      ],
      "text/plain": [
       "Read 57931295 lines. Lines per second: 299049"
      ]
     },
     "metadata": {},
     "output_type": "display_data"
    },
    {
     "data": {
      "text/html": [
       "<pre>Read 59571012 lines. Lines per second: 298029</pre>"
      ],
      "text/plain": [
       "Read 59571012 lines. Lines per second: 298029"
      ]
     },
     "metadata": {},
     "output_type": "display_data"
    },
    {
     "data": {
      "text/html": [
       "<pre>Read 61693386 lines. Lines per second: 298794</pre>"
      ],
      "text/plain": [
       "Read 61693386 lines. Lines per second: 298794"
      ]
     },
     "metadata": {},
     "output_type": "display_data"
    },
    {
     "data": {
      "text/html": [
       "<pre>Read 63300021 lines. Lines per second: 299155</pre>"
      ],
      "text/plain": [
       "Read 63300021 lines. Lines per second: 299155"
      ]
     },
     "metadata": {},
     "output_type": "display_data"
    },
    {
     "data": {
      "text/html": [
       "<pre>Read 63845441 lines. Lines per second: 293854</pre>"
      ],
      "text/plain": [
       "Read 63845441 lines. Lines per second: 293854"
      ]
     },
     "metadata": {},
     "output_type": "display_data"
    },
    {
     "data": {
      "text/html": [
       "<pre>Read 64931670 lines. Lines per second: 291469</pre>"
      ],
      "text/plain": [
       "Read 64931670 lines. Lines per second: 291469"
      ]
     },
     "metadata": {},
     "output_type": "display_data"
    },
    {
     "data": {
      "text/html": [
       "<pre>Read 67081723 lines. Lines per second: 292691</pre>"
      ],
      "text/plain": [
       "Read 67081723 lines. Lines per second: 292691"
      ]
     },
     "metadata": {},
     "output_type": "display_data"
    },
    {
     "data": {
      "text/html": [
       "<pre>Read 69150905 lines. Lines per second: 292575</pre>"
      ],
      "text/plain": [
       "Read 69150905 lines. Lines per second: 292575"
      ]
     },
     "metadata": {},
     "output_type": "display_data"
    },
    {
     "data": {
      "text/html": [
       "<pre>Read 70797542 lines. Lines per second: 293341</pre>"
      ],
      "text/plain": [
       "Read 70797542 lines. Lines per second: 293341"
      ]
     },
     "metadata": {},
     "output_type": "display_data"
    },
    {
     "data": {
      "text/html": [
       "<pre>Read 73089065 lines. Lines per second: 295026</pre>"
      ],
      "text/plain": [
       "Read 73089065 lines. Lines per second: 295026"
      ]
     },
     "metadata": {},
     "output_type": "display_data"
    },
    {
     "data": {
      "text/html": [
       "<pre>Read 74806089 lines. Lines per second: 295487</pre>"
      ],
      "text/plain": [
       "Read 74806089 lines. Lines per second: 295487"
      ]
     },
     "metadata": {},
     "output_type": "display_data"
    },
    {
     "data": {
      "text/html": [
       "<pre>Read 76539674 lines. Lines per second: 293923</pre>"
      ],
      "text/plain": [
       "Read 76539674 lines. Lines per second: 293923"
      ]
     },
     "metadata": {},
     "output_type": "display_data"
    },
    {
     "data": {
      "text/html": [
       "<pre>Read 78133435 lines. Lines per second: 290687</pre>"
      ],
      "text/plain": [
       "Read 78133435 lines. Lines per second: 290687"
      ]
     },
     "metadata": {},
     "output_type": "display_data"
    },
    {
     "data": {
      "text/html": [
       "<pre>Read 79191384 lines. Lines per second: 289302</pre>"
      ],
      "text/plain": [
       "Read 79191384 lines. Lines per second: 289302"
      ]
     },
     "metadata": {},
     "output_type": "display_data"
    },
    {
     "data": {
      "text/html": [
       "<pre>Read 80806351 lines. Lines per second: 288402</pre>"
      ],
      "text/plain": [
       "Read 80806351 lines. Lines per second: 288402"
      ]
     },
     "metadata": {},
     "output_type": "display_data"
    },
    {
     "data": {
      "text/html": [
       "<pre>Read 82404885 lines. Lines per second: 287262</pre>"
      ],
      "text/plain": [
       "Read 82404885 lines. Lines per second: 287262"
      ]
     },
     "metadata": {},
     "output_type": "display_data"
    },
    {
     "data": {
      "text/html": [
       "<pre>Read 83960694 lines. Lines per second: 286082</pre>"
      ],
      "text/plain": [
       "Read 83960694 lines. Lines per second: 286082"
      ]
     },
     "metadata": {},
     "output_type": "display_data"
    },
    {
     "data": {
      "text/html": [
       "<pre>Read 85570003 lines. Lines per second: 285520</pre>"
      ],
      "text/plain": [
       "Read 85570003 lines. Lines per second: 285520"
      ]
     },
     "metadata": {},
     "output_type": "display_data"
    },
    {
     "data": {
      "text/html": [
       "<pre>Read 87182382 lines. Lines per second: 285643</pre>"
      ],
      "text/plain": [
       "Read 87182382 lines. Lines per second: 285643"
      ]
     },
     "metadata": {},
     "output_type": "display_data"
    },
    {
     "data": {
      "text/html": [
       "<pre>Read 88763255 lines. Lines per second: 285920</pre>"
      ],
      "text/plain": [
       "Read 88763255 lines. Lines per second: 285920"
      ]
     },
     "metadata": {},
     "output_type": "display_data"
    },
    {
     "data": {
      "text/html": [
       "<pre>Read 90925722 lines. Lines per second: 287283</pre>"
      ],
      "text/plain": [
       "Read 90925722 lines. Lines per second: 287283"
      ]
     },
     "metadata": {},
     "output_type": "display_data"
    },
    {
     "data": {
      "text/html": [
       "<pre>Read 93040555 lines. Lines per second: 288139</pre>"
      ],
      "text/plain": [
       "Read 93040555 lines. Lines per second: 288139"
      ]
     },
     "metadata": {},
     "output_type": "display_data"
    },
    {
     "data": {
      "text/html": [
       "<pre>Read 94651487 lines. Lines per second: 287503</pre>"
      ],
      "text/plain": [
       "Read 94651487 lines. Lines per second: 287503"
      ]
     },
     "metadata": {},
     "output_type": "display_data"
    },
    {
     "data": {
      "text/html": [
       "<pre>Read 96837860 lines. Lines per second: 288281</pre>"
      ],
      "text/plain": [
       "Read 96837860 lines. Lines per second: 288281"
      ]
     },
     "metadata": {},
     "output_type": "display_data"
    },
    {
     "data": {
      "text/html": [
       "<pre>Read 98462260 lines. Lines per second: 288329</pre>"
      ],
      "text/plain": [
       "Read 98462260 lines. Lines per second: 288329"
      ]
     },
     "metadata": {},
     "output_type": "display_data"
    },
    {
     "data": {
      "text/html": [
       "<pre>Read 100215918 lines. Lines per second: 287195</pre>"
      ],
      "text/plain": [
       "Read 100215918 lines. Lines per second: 287195"
      ]
     },
     "metadata": {},
     "output_type": "display_data"
    },
    {
     "data": {
      "text/html": [
       "<pre>Read 102000768 lines. Lines per second: 288049</pre>"
      ],
      "text/plain": [
       "Read 102000768 lines. Lines per second: 288049"
      ]
     },
     "metadata": {},
     "output_type": "display_data"
    },
    {
     "data": {
      "text/html": [
       "<pre>Read 103785202 lines. Lines per second: 288586</pre>"
      ],
      "text/plain": [
       "Read 103785202 lines. Lines per second: 288586"
      ]
     },
     "metadata": {},
     "output_type": "display_data"
    },
    {
     "data": {
      "text/html": [
       "<pre>Read 104974708 lines. Lines per second: 286601</pre>"
      ],
      "text/plain": [
       "Read 104974708 lines. Lines per second: 286601"
      ]
     },
     "metadata": {},
     "output_type": "display_data"
    },
    {
     "data": {
      "text/html": [
       "<pre>Read 106759667 lines. Lines per second: 286927</pre>"
      ],
      "text/plain": [
       "Read 106759667 lines. Lines per second: 286927"
      ]
     },
     "metadata": {},
     "output_type": "display_data"
    },
    {
     "data": {
      "text/html": [
       "<pre>Read 108313230 lines. Lines per second: 286748</pre>"
      ],
      "text/plain": [
       "Read 108313230 lines. Lines per second: 286748"
      ]
     },
     "metadata": {},
     "output_type": "display_data"
    },
    {
     "data": {
      "text/html": [
       "<pre>Read 109957999 lines. Lines per second: 286577</pre>"
      ],
      "text/plain": [
       "Read 109957999 lines. Lines per second: 286577"
      ]
     },
     "metadata": {},
     "output_type": "display_data"
    },
    {
     "data": {
      "text/html": [
       "<pre>Read 111953749 lines. Lines per second: 287128</pre>"
      ],
      "text/plain": [
       "Read 111953749 lines. Lines per second: 287128"
      ]
     },
     "metadata": {},
     "output_type": "display_data"
    },
    {
     "data": {
      "text/html": [
       "<pre>Read 113521899 lines. Lines per second: 287388</pre>"
      ],
      "text/plain": [
       "Read 113521899 lines. Lines per second: 287388"
      ]
     },
     "metadata": {},
     "output_type": "display_data"
    },
    {
     "data": {
      "text/html": [
       "<pre>Read 115096137 lines. Lines per second: 287725</pre>"
      ],
      "text/plain": [
       "Read 115096137 lines. Lines per second: 287725"
      ]
     },
     "metadata": {},
     "output_type": "display_data"
    },
    {
     "data": {
      "text/html": [
       "<pre>Read 116706461 lines. Lines per second: 287697</pre>"
      ],
      "text/plain": [
       "Read 116706461 lines. Lines per second: 287697"
      ]
     },
     "metadata": {},
     "output_type": "display_data"
    },
    {
     "data": {
      "text/html": [
       "<pre>Read 118291367 lines. Lines per second: 287936</pre>"
      ],
      "text/plain": [
       "Read 118291367 lines. Lines per second: 287936"
      ]
     },
     "metadata": {},
     "output_type": "display_data"
    },
    {
     "data": {
      "text/html": [
       "<pre>Read 119851944 lines. Lines per second: 287639</pre>"
      ],
      "text/plain": [
       "Read 119851944 lines. Lines per second: 287639"
      ]
     },
     "metadata": {},
     "output_type": "display_data"
    },
    {
     "data": {
      "text/html": [
       "<pre>Read 121392802 lines. Lines per second: 287548</pre>"
      ],
      "text/plain": [
       "Read 121392802 lines. Lines per second: 287548"
      ]
     },
     "metadata": {},
     "output_type": "display_data"
    },
    {
     "data": {
      "text/html": [
       "<pre>Read 122931656 lines. Lines per second: 287359</pre>"
      ],
      "text/plain": [
       "Read 122931656 lines. Lines per second: 287359"
      ]
     },
     "metadata": {},
     "output_type": "display_data"
    },
    {
     "data": {
      "text/html": [
       "<pre>Read 124468270 lines. Lines per second: 287584</pre>"
      ],
      "text/plain": [
       "Read 124468270 lines. Lines per second: 287584"
      ]
     },
     "metadata": {},
     "output_type": "display_data"
    },
    {
     "data": {
      "text/html": [
       "<pre>Read 126056702 lines. Lines per second: 286798</pre>"
      ],
      "text/plain": [
       "Read 126056702 lines. Lines per second: 286798"
      ]
     },
     "metadata": {},
     "output_type": "display_data"
    },
    {
     "data": {
      "text/html": [
       "<pre>Read 127643998 lines. Lines per second: 286543</pre>"
      ],
      "text/plain": [
       "Read 127643998 lines. Lines per second: 286543"
      ]
     },
     "metadata": {},
     "output_type": "display_data"
    },
    {
     "data": {
      "text/html": [
       "<pre>Read 129238554 lines. Lines per second: 286450</pre>"
      ],
      "text/plain": [
       "Read 129238554 lines. Lines per second: 286450"
      ]
     },
     "metadata": {},
     "output_type": "display_data"
    },
    {
     "data": {
      "text/html": [
       "<pre>Read 130884976 lines. Lines per second: 286956</pre>"
      ],
      "text/plain": [
       "Read 130884976 lines. Lines per second: 286956"
      ]
     },
     "metadata": {},
     "output_type": "display_data"
    },
    {
     "data": {
      "text/html": [
       "<pre>Read 133004473 lines. Lines per second: 287352</pre>"
      ],
      "text/plain": [
       "Read 133004473 lines. Lines per second: 287352"
      ]
     },
     "metadata": {},
     "output_type": "display_data"
    },
    {
     "data": {
      "text/html": [
       "<pre>Read 135102962 lines. Lines per second: 287653</pre>"
      ],
      "text/plain": [
       "Read 135102962 lines. Lines per second: 287653"
      ]
     },
     "metadata": {},
     "output_type": "display_data"
    },
    {
     "data": {
      "text/html": [
       "<pre>Read 136649512 lines. Lines per second: 287806</pre>"
      ],
      "text/plain": [
       "Read 136649512 lines. Lines per second: 287806"
      ]
     },
     "metadata": {},
     "output_type": "display_data"
    },
    {
     "data": {
      "text/html": [
       "<pre>Read 138686028 lines. Lines per second: 288339</pre>"
      ],
      "text/plain": [
       "Read 138686028 lines. Lines per second: 288339"
      ]
     },
     "metadata": {},
     "output_type": "display_data"
    },
    {
     "data": {
      "text/html": [
       "<pre>Read 140774488 lines. Lines per second: 289060</pre>"
      ],
      "text/plain": [
       "Read 140774488 lines. Lines per second: 289060"
      ]
     },
     "metadata": {},
     "output_type": "display_data"
    },
    {
     "data": {
      "text/html": [
       "<pre>Read 142383257 lines. Lines per second: 288584</pre>"
      ],
      "text/plain": [
       "Read 142383257 lines. Lines per second: 288584"
      ]
     },
     "metadata": {},
     "output_type": "display_data"
    },
    {
     "data": {
      "text/html": [
       "<pre>Read 143456126 lines. Lines per second: 287566</pre>"
      ],
      "text/plain": [
       "Read 143456126 lines. Lines per second: 287566"
      ]
     },
     "metadata": {},
     "output_type": "display_data"
    },
    {
     "data": {
      "text/html": [
       "<pre>Read 145011663 lines. Lines per second: 287034</pre>"
      ],
      "text/plain": [
       "Read 145011663 lines. Lines per second: 287034"
      ]
     },
     "metadata": {},
     "output_type": "display_data"
    },
    {
     "data": {
      "text/html": [
       "<pre>Read 146602017 lines. Lines per second: 286941</pre>"
      ],
      "text/plain": [
       "Read 146602017 lines. Lines per second: 286941"
      ]
     },
     "metadata": {},
     "output_type": "display_data"
    },
    {
     "data": {
      "text/html": [
       "<pre>Read 148221747 lines. Lines per second: 287095</pre>"
      ],
      "text/plain": [
       "Read 148221747 lines. Lines per second: 287095"
      ]
     },
     "metadata": {},
     "output_type": "display_data"
    },
    {
     "data": {
      "text/html": [
       "<pre>Read 149801225 lines. Lines per second: 286903</pre>"
      ],
      "text/plain": [
       "Read 149801225 lines. Lines per second: 286903"
      ]
     },
     "metadata": {},
     "output_type": "display_data"
    },
    {
     "data": {
      "text/html": [
       "<pre>Read 151372960 lines. Lines per second: 287016</pre>"
      ],
      "text/plain": [
       "Read 151372960 lines. Lines per second: 287016"
      ]
     },
     "metadata": {},
     "output_type": "display_data"
    },
    {
     "data": {
      "text/html": [
       "<pre>Read 152968240 lines. Lines per second: 287008</pre>"
      ],
      "text/plain": [
       "Read 152968240 lines. Lines per second: 287008"
      ]
     },
     "metadata": {},
     "output_type": "display_data"
    },
    {
     "data": {
      "text/html": [
       "<pre>Read 155123918 lines. Lines per second: 287638</pre>"
      ],
      "text/plain": [
       "Read 155123918 lines. Lines per second: 287638"
      ]
     },
     "metadata": {},
     "output_type": "display_data"
    },
    {
     "data": {
      "text/html": [
       "<pre>Read 156800643 lines. Lines per second: 287993</pre>"
      ],
      "text/plain": [
       "Read 156800643 lines. Lines per second: 287993"
      ]
     },
     "metadata": {},
     "output_type": "display_data"
    },
    {
     "data": {
      "text/html": [
       "<pre>Read 158587942 lines. Lines per second: 288156</pre>"
      ],
      "text/plain": [
       "Read 158587942 lines. Lines per second: 288156"
      ]
     },
     "metadata": {},
     "output_type": "display_data"
    },
    {
     "data": {
      "text/html": [
       "<pre>Read 160303908 lines. Lines per second: 288649</pre>"
      ],
      "text/plain": [
       "Read 160303908 lines. Lines per second: 288649"
      ]
     },
     "metadata": {},
     "output_type": "display_data"
    },
    {
     "data": {
      "text/html": [
       "<pre>Read 162449140 lines. Lines per second: 289275</pre>"
      ],
      "text/plain": [
       "Read 162449140 lines. Lines per second: 289275"
      ]
     },
     "metadata": {},
     "output_type": "display_data"
    },
    {
     "data": {
      "text/html": [
       "<pre>Read 164038847 lines. Lines per second: 289318</pre>"
      ],
      "text/plain": [
       "Read 164038847 lines. Lines per second: 289318"
      ]
     },
     "metadata": {},
     "output_type": "display_data"
    },
    {
     "data": {
      "text/html": [
       "<pre>Read 166162681 lines. Lines per second: 289341</pre>"
      ],
      "text/plain": [
       "Read 166162681 lines. Lines per second: 289341"
      ]
     },
     "metadata": {},
     "output_type": "display_data"
    },
    {
     "data": {
      "text/html": [
       "<pre>Read 168247699 lines. Lines per second: 289956</pre>"
      ],
      "text/plain": [
       "Read 168247699 lines. Lines per second: 289956"
      ]
     },
     "metadata": {},
     "output_type": "display_data"
    },
    {
     "data": {
      "text/html": [
       "<pre>Read 169812734 lines. Lines per second: 289745</pre>"
      ],
      "text/plain": [
       "Read 169812734 lines. Lines per second: 289745"
      ]
     },
     "metadata": {},
     "output_type": "display_data"
    },
    {
     "data": {
      "text/html": [
       "<pre>Read 171423058 lines. Lines per second: 289870</pre>"
      ],
      "text/plain": [
       "Read 171423058 lines. Lines per second: 289870"
      ]
     },
     "metadata": {},
     "output_type": "display_data"
    },
    {
     "data": {
      "text/html": [
       "<pre>Read 173085073 lines. Lines per second: 287318</pre>"
      ],
      "text/plain": [
       "Read 173085073 lines. Lines per second: 287318"
      ]
     },
     "metadata": {},
     "output_type": "display_data"
    },
    {
     "data": {
      "text/html": [
       "<pre>Read 174685153 lines. Lines per second: 286823</pre>"
      ],
      "text/plain": [
       "Read 174685153 lines. Lines per second: 286823"
      ]
     },
     "metadata": {},
     "output_type": "display_data"
    },
    {
     "data": {
      "text/html": [
       "<pre>Read 176744330 lines. Lines per second: 287075</pre>"
      ],
      "text/plain": [
       "Read 176744330 lines. Lines per second: 287075"
      ]
     },
     "metadata": {},
     "output_type": "display_data"
    },
    {
     "data": {
      "text/html": [
       "<pre>Read 177784427 lines. Lines per second: 284012</pre>"
      ],
      "text/plain": [
       "Read 177784427 lines. Lines per second: 284012"
      ]
     },
     "metadata": {},
     "output_type": "display_data"
    },
    {
     "data": {
      "text/html": [
       "<pre>Read 178875716 lines. Lines per second: 282208</pre>"
      ],
      "text/plain": [
       "Read 178875716 lines. Lines per second: 282208"
      ]
     },
     "metadata": {},
     "output_type": "display_data"
    },
    {
     "data": {
      "text/html": [
       "<pre>Read 179969295 lines. Lines per second: 281408</pre>"
      ],
      "text/plain": [
       "Read 179969295 lines. Lines per second: 281408"
      ]
     },
     "metadata": {},
     "output_type": "display_data"
    },
    {
     "data": {
      "text/html": [
       "<pre>Read 182078153 lines. Lines per second: 282124</pre>"
      ],
      "text/plain": [
       "Read 182078153 lines. Lines per second: 282124"
      ]
     },
     "metadata": {},
     "output_type": "display_data"
    },
    {
     "data": {
      "text/html": [
       "<pre>Read 183655738 lines. Lines per second: 281672</pre>"
      ],
      "text/plain": [
       "Read 183655738 lines. Lines per second: 281672"
      ]
     },
     "metadata": {},
     "output_type": "display_data"
    },
    {
     "data": {
      "text/html": [
       "<pre>Read 184712981 lines. Lines per second: 280754</pre>"
      ],
      "text/plain": [
       "Read 184712981 lines. Lines per second: 280754"
      ]
     },
     "metadata": {},
     "output_type": "display_data"
    },
    {
     "data": {
      "text/html": [
       "<pre>Read 186304642 lines. Lines per second: 280850</pre>"
      ],
      "text/plain": [
       "Read 186304642 lines. Lines per second: 280850"
      ]
     },
     "metadata": {},
     "output_type": "display_data"
    },
    {
     "data": {
      "text/html": [
       "<pre>Read 186830693 lines. Lines per second: 278686</pre>"
      ],
      "text/plain": [
       "Read 186830693 lines. Lines per second: 278686"
      ]
     },
     "metadata": {},
     "output_type": "display_data"
    },
    {
     "data": {
      "text/html": [
       "<pre>Read 187887430 lines. Lines per second: 276869</pre>"
      ],
      "text/plain": [
       "Read 187887430 lines. Lines per second: 276869"
      ]
     },
     "metadata": {},
     "output_type": "display_data"
    },
    {
     "data": {
      "text/html": [
       "<pre>Read 188959071 lines. Lines per second: 275845</pre>"
      ],
      "text/plain": [
       "Read 188959071 lines. Lines per second: 275845"
      ]
     },
     "metadata": {},
     "output_type": "display_data"
    },
    {
     "data": {
      "text/html": [
       "<pre>Read 191117229 lines. Lines per second: 276555</pre>"
      ],
      "text/plain": [
       "Read 191117229 lines. Lines per second: 276555"
      ]
     },
     "metadata": {},
     "output_type": "display_data"
    },
    {
     "data": {
      "text/html": [
       "<pre>Read 193242749 lines. Lines per second: 276952</pre>"
      ],
      "text/plain": [
       "Read 193242749 lines. Lines per second: 276952"
      ]
     },
     "metadata": {},
     "output_type": "display_data"
    },
    {
     "data": {
      "text/html": [
       "<pre>Read 194895543 lines. Lines per second: 277236</pre>"
      ],
      "text/plain": [
       "Read 194895543 lines. Lines per second: 277236"
      ]
     },
     "metadata": {},
     "output_type": "display_data"
    },
    {
     "data": {
      "text/html": [
       "<pre>Read 197118777 lines. Lines per second: 277937</pre>"
      ],
      "text/plain": [
       "Read 197118777 lines. Lines per second: 277937"
      ]
     },
     "metadata": {},
     "output_type": "display_data"
    },
    {
     "data": {
      "text/html": [
       "<pre>Read 198787186 lines. Lines per second: 277717</pre>"
      ],
      "text/plain": [
       "Read 198787186 lines. Lines per second: 277717"
      ]
     },
     "metadata": {},
     "output_type": "display_data"
    },
    {
     "data": {
      "text/html": [
       "<pre>Read 199850957 lines. Lines per second: 277192</pre>"
      ],
      "text/plain": [
       "Read 199850957 lines. Lines per second: 277192"
      ]
     },
     "metadata": {},
     "output_type": "display_data"
    },
    {
     "data": {
      "text/html": [
       "<pre>Read 201475365 lines. Lines per second: 277301</pre>"
      ],
      "text/plain": [
       "Read 201475365 lines. Lines per second: 277301"
      ]
     },
     "metadata": {},
     "output_type": "display_data"
    },
    {
     "data": {
      "text/html": [
       "<pre>Read 203625197 lines. Lines per second: 277701</pre>"
      ],
      "text/plain": [
       "Read 203625197 lines. Lines per second: 277701"
      ]
     },
     "metadata": {},
     "output_type": "display_data"
    },
    {
     "data": {
      "text/html": [
       "<pre>Read 205235599 lines. Lines per second: 277966</pre>"
      ],
      "text/plain": [
       "Read 205235599 lines. Lines per second: 277966"
      ]
     },
     "metadata": {},
     "output_type": "display_data"
    },
    {
     "data": {
      "text/html": [
       "<pre>Read 206840312 lines. Lines per second: 278192</pre>"
      ],
      "text/plain": [
       "Read 206840312 lines. Lines per second: 278192"
      ]
     },
     "metadata": {},
     "output_type": "display_data"
    },
    {
     "data": {
      "text/html": [
       "<pre>Read 209027996 lines. Lines per second: 278678</pre>"
      ],
      "text/plain": [
       "Read 209027996 lines. Lines per second: 278678"
      ]
     },
     "metadata": {},
     "output_type": "display_data"
    },
    {
     "data": {
      "text/html": [
       "<pre>Read 211166825 lines. Lines per second: 279483</pre>"
      ],
      "text/plain": [
       "Read 211166825 lines. Lines per second: 279483"
      ]
     },
     "metadata": {},
     "output_type": "display_data"
    },
    {
     "data": {
      "text/html": [
       "<pre>Read 213322587 lines. Lines per second: 280109</pre>"
      ],
      "text/plain": [
       "Read 213322587 lines. Lines per second: 280109"
      ]
     },
     "metadata": {},
     "output_type": "display_data"
    },
    {
     "data": {
      "text/html": [
       "<pre>Read 214864675 lines. Lines per second: 280099</pre>"
      ],
      "text/plain": [
       "Read 214864675 lines. Lines per second: 280099"
      ]
     },
     "metadata": {},
     "output_type": "display_data"
    },
    {
     "data": {
      "text/html": [
       "<pre>Read 216989175 lines. Lines per second: 280307</pre>"
      ],
      "text/plain": [
       "Read 216989175 lines. Lines per second: 280307"
      ]
     },
     "metadata": {},
     "output_type": "display_data"
    },
    {
     "data": {
      "text/html": [
       "<pre>Read 219142888 lines. Lines per second: 280829</pre>"
      ],
      "text/plain": [
       "Read 219142888 lines. Lines per second: 280829"
      ]
     },
     "metadata": {},
     "output_type": "display_data"
    },
    {
     "data": {
      "text/html": [
       "<pre>Read 220767486 lines. Lines per second: 281111</pre>"
      ],
      "text/plain": [
       "Read 220767486 lines. Lines per second: 281111"
      ]
     },
     "metadata": {},
     "output_type": "display_data"
    },
    {
     "data": {
      "text/html": [
       "<pre>Read 222894127 lines. Lines per second: 281528</pre>"
      ],
      "text/plain": [
       "Read 222894127 lines. Lines per second: 281528"
      ]
     },
     "metadata": {},
     "output_type": "display_data"
    },
    {
     "data": {
      "text/html": [
       "<pre>Read 224963143 lines. Lines per second: 282134</pre>"
      ],
      "text/plain": [
       "Read 224963143 lines. Lines per second: 282134"
      ]
     },
     "metadata": {},
     "output_type": "display_data"
    },
    {
     "data": {
      "text/html": [
       "<pre>Read 226545304 lines. Lines per second: 280053</pre>"
      ],
      "text/plain": [
       "Read 226545304 lines. Lines per second: 280053"
      ]
     },
     "metadata": {},
     "output_type": "display_data"
    },
    {
     "data": {
      "text/html": [
       "<pre>Read 228131425 lines. Lines per second: 279884</pre>"
      ],
      "text/plain": [
       "Read 228131425 lines. Lines per second: 279884"
      ]
     },
     "metadata": {},
     "output_type": "display_data"
    },
    {
     "data": {
      "text/html": [
       "<pre>Read 229205206 lines. Lines per second: 266708</pre>"
      ],
      "text/plain": [
       "Read 229205206 lines. Lines per second: 266708"
      ]
     },
     "metadata": {},
     "output_type": "display_data"
    },
    {
     "data": {
      "text/html": [
       "<pre>Read 229741122 lines. Lines per second: 263060</pre>"
      ],
      "text/plain": [
       "Read 229741122 lines. Lines per second: 263060"
      ]
     },
     "metadata": {},
     "output_type": "display_data"
    },
    {
     "data": {
      "text/html": [
       "<pre>Read 230807858 lines. Lines per second: 262399</pre>"
      ],
      "text/plain": [
       "Read 230807858 lines. Lines per second: 262399"
      ]
     },
     "metadata": {},
     "output_type": "display_data"
    },
    {
     "data": {
      "text/html": [
       "<pre>Read 232381002 lines. Lines per second: 262692</pre>"
      ],
      "text/plain": [
       "Read 232381002 lines. Lines per second: 262692"
      ]
     },
     "metadata": {},
     "output_type": "display_data"
    },
    {
     "data": {
      "text/html": [
       "<pre>Read 234531280 lines. Lines per second: 263537</pre>"
      ],
      "text/plain": [
       "Read 234531280 lines. Lines per second: 263537"
      ]
     },
     "metadata": {},
     "output_type": "display_data"
    },
    {
     "data": {
      "text/html": [
       "<pre>Read 236160130 lines. Lines per second: 263237</pre>"
      ],
      "text/plain": [
       "Read 236160130 lines. Lines per second: 263237"
      ]
     },
     "metadata": {},
     "output_type": "display_data"
    },
    {
     "data": {
      "text/html": [
       "<pre>Read 238285553 lines. Lines per second: 264032</pre>"
      ],
      "text/plain": [
       "Read 238285553 lines. Lines per second: 264032"
      ]
     },
     "metadata": {},
     "output_type": "display_data"
    },
    {
     "data": {
      "text/html": [
       "<pre>Read 240441489 lines. Lines per second: 264757</pre>"
      ],
      "text/plain": [
       "Read 240441489 lines. Lines per second: 264757"
      ]
     },
     "metadata": {},
     "output_type": "display_data"
    },
    {
     "data": {
      "text/html": [
       "<pre>Read 242511189 lines. Lines per second: 265554</pre>"
      ],
      "text/plain": [
       "Read 242511189 lines. Lines per second: 265554"
      ]
     },
     "metadata": {},
     "output_type": "display_data"
    },
    {
     "data": {
      "text/html": [
       "<pre>Read 244612122 lines. Lines per second: 266323</pre>"
      ],
      "text/plain": [
       "Read 244612122 lines. Lines per second: 266323"
      ]
     },
     "metadata": {},
     "output_type": "display_data"
    },
    {
     "data": {
      "text/html": [
       "<pre>Read 246747160 lines. Lines per second: 267011</pre>"
      ],
      "text/plain": [
       "Read 246747160 lines. Lines per second: 267011"
      ]
     },
     "metadata": {},
     "output_type": "display_data"
    },
    {
     "data": {
      "text/html": [
       "<pre>Read 248352594 lines. Lines per second: 266952</pre>"
      ],
      "text/plain": [
       "Read 248352594 lines. Lines per second: 266952"
      ]
     },
     "metadata": {},
     "output_type": "display_data"
    },
    {
     "data": {
      "text/html": [
       "<pre>Read 250475937 lines. Lines per second: 267733</pre>"
      ],
      "text/plain": [
       "Read 250475937 lines. Lines per second: 267733"
      ]
     },
     "metadata": {},
     "output_type": "display_data"
    },
    {
     "data": {
      "text/html": [
       "<pre>Read 252616309 lines. Lines per second: 268509</pre>"
      ],
      "text/plain": [
       "Read 252616309 lines. Lines per second: 268509"
      ]
     },
     "metadata": {},
     "output_type": "display_data"
    },
    {
     "data": {
      "text/html": [
       "<pre>Read 254755583 lines. Lines per second: 269182</pre>"
      ],
      "text/plain": [
       "Read 254755583 lines. Lines per second: 269182"
      ]
     },
     "metadata": {},
     "output_type": "display_data"
    },
    {
     "data": {
      "text/html": [
       "<pre>Finished parsing file /home/alvas/git/hypopotamus/wiki-triplets-24G.tsv</pre>"
      ],
      "text/plain": [
       "Finished parsing file /home/alvas/git/hypopotamus/wiki-triplets-24G.tsv"
      ]
     },
     "metadata": {},
     "output_type": "display_data"
    },
    {
     "data": {
      "text/html": [
       "<pre>Parsing completed. Parsed 256957055 lines in 950.849 secs.</pre>"
      ],
      "text/plain": [
       "Parsing completed. Parsed 256957055 lines in 950.849 secs."
      ]
     },
     "metadata": {},
     "output_type": "display_data"
    }
   ],
   "source": [
    "try:\n",
    "    sf = SFrame.load_sframe('wiki-triplets-24G_sframe/')\n",
    "except:\n",
    "    sf = SFrame.read_csv('wiki-triplets-24G.tsv', column_type_hints=[str, str, str],\n",
    "                         delimiter='\\t', header=False, quote_char='\\0')"
   ]
  },
  {
   "cell_type": "code",
   "execution_count": null,
   "metadata": {
    "collapsed": false
   },
   "outputs": [],
   "source": [
    "sf.rename({'X1': 'x', 'X2':'y', 'X3':'path'})"
   ]
  },
  {
   "cell_type": "code",
   "execution_count": 24,
   "metadata": {
    "collapsed": false
   },
   "outputs": [],
   "source": [
    "sf.save('wiki-triplets-24G_sframe/')\n"
   ]
  },
  {
   "cell_type": "code",
   "execution_count": 28,
   "metadata": {
    "collapsed": true
   },
   "outputs": [],
   "source": [
    "entities = sf['x'].unique().append(sf['y'].unique())"
   ]
  },
  {
   "cell_type": "code",
   "execution_count": 29,
   "metadata": {
    "collapsed": false
   },
   "outputs": [
    {
     "data": {
      "text/plain": [
       "dtype: str\n",
       "Rows: 10\n",
       "['annual turnover', 'parasitic genetic elements', 'retail tenants', \"brad pitt 's plan b production company\", 'labor luminaries', 'maisonneuve', 'two paintings', 'birefringence', '\" the sun - herald', 'former blue thunder driver']"
      ]
     },
     "execution_count": 29,
     "metadata": {},
     "output_type": "execute_result"
    }
   ],
   "source": [
    "entities.head()"
   ]
  },
  {
   "cell_type": "code",
   "execution_count": 30,
   "metadata": {
    "collapsed": true
   },
   "outputs": [],
   "source": [
    "path_counts = sf.groupby(key_columns='path', operations={'count': aggregate.COUNT()})"
   ]
  },
  {
   "cell_type": "code",
   "execution_count": 31,
   "metadata": {
    "collapsed": false
   },
   "outputs": [
    {
     "data": {
      "text/html": [
       "<div style=\"max-height:1000px;max-width:1500px;overflow:auto;\"><table frame=\"box\" rules=\"cols\">\n",
       "    <tr>\n",
       "        <th style=\"padding-left: 1em; padding-right: 1em; text-align: center\">path</th>\n",
       "        <th style=\"padding-left: 1em; padding-right: 1em; text-align: center\">count</th>\n",
       "    </tr>\n",
       "    <tr>\n",
       "        <td style=\"padding-left: 1em; padding-right: 1em; text-align: center; vertical-align: top\">invisible/ADJ/amod&lt;_X/NOU<br>N/ROOT&gt;_swallow/VERB/ ...</td>\n",
       "        <td style=\"padding-left: 1em; padding-right: 1em; text-align: center; vertical-align: top\">1</td>\n",
       "    </tr>\n",
       "    <tr>\n",
       "        <td style=\"padding-left: 1em; padding-right: 1em; text-align: center; vertical-align: top\">X/NOUN/ROOT&gt;_be/VERB/ROOT<br>_&lt;establish/VERB/conj ...</td>\n",
       "        <td style=\"padding-left: 1em; padding-right: 1em; text-align: center; vertical-align: top\">2</td>\n",
       "    </tr>\n",
       "    <tr>\n",
       "        <td style=\"padding-left: 1em; padding-right: 1em; text-align: center; vertical-align: top\">X/PROPN/compound&gt;_battey/<br>PROPN/nsubj&gt;_win/VERB ...</td>\n",
       "        <td style=\"padding-left: 1em; padding-right: 1em; text-align: center; vertical-align: top\">2</td>\n",
       "    </tr>\n",
       "    <tr>\n",
       "        <td style=\"padding-left: 1em; padding-right: 1em; text-align: center; vertical-align: top\">X/NOUN/ROOT&gt;_release/VERB<br>/ROOT_&lt;notice/VERB/ad ...</td>\n",
       "        <td style=\"padding-left: 1em; padding-right: 1em; text-align: center; vertical-align: top\">2</td>\n",
       "    </tr>\n",
       "    <tr>\n",
       "        <td style=\"padding-left: 1em; padding-right: 1em; text-align: center; vertical-align: top\">X/NOUN/dep&gt;_be/VERB/ROOT_<br>&lt;part/NOUN/attr_&lt;of/A ...</td>\n",
       "        <td style=\"padding-left: 1em; padding-right: 1em; text-align: center; vertical-align: top\">4</td>\n",
       "    </tr>\n",
       "    <tr>\n",
       "        <td style=\"padding-left: 1em; padding-right: 1em; text-align: center; vertical-align: top\">large/ADJ/amod&lt;_X/NOUN/RO<br>OT&gt;_grow/VERB/ROOT_&lt;f ...</td>\n",
       "        <td style=\"padding-left: 1em; padding-right: 1em; text-align: center; vertical-align: top\">1</td>\n",
       "    </tr>\n",
       "    <tr>\n",
       "        <td style=\"padding-left: 1em; padding-right: 1em; text-align: center; vertical-align: top\">X/PROPN/compound&gt;_order/P<br>ROPN/ROOT_&lt;Y/PROPN/conj ...</td>\n",
       "        <td style=\"padding-left: 1em; padding-right: 1em; text-align: center; vertical-align: top\">8</td>\n",
       "    </tr>\n",
       "    <tr>\n",
       "        <td style=\"padding-left: 1em; padding-right: 1em; text-align: center; vertical-align: top\">X/NOUN/nsubj&gt;_comprise/VE<br>RB/ROOT_&lt;johnson/PROP ...</td>\n",
       "        <td style=\"padding-left: 1em; padding-right: 1em; text-align: center; vertical-align: top\">1</td>\n",
       "    </tr>\n",
       "    <tr>\n",
       "        <td style=\"padding-left: 1em; padding-right: 1em; text-align: center; vertical-align: top\">X/PROPN/ROOT&gt;_create/VERB<br>/ROOT_&lt;use/VERB/conj_ ...</td>\n",
       "        <td style=\"padding-left: 1em; padding-right: 1em; text-align: center; vertical-align: top\">1</td>\n",
       "    </tr>\n",
       "    <tr>\n",
       "        <td style=\"padding-left: 1em; padding-right: 1em; text-align: center; vertical-align: top\">other/ADJ/amod&lt;_X/NOUN/co<br>nj&gt;_bowl/PROPN/ROOT_&lt; ...</td>\n",
       "        <td style=\"padding-left: 1em; padding-right: 1em; text-align: center; vertical-align: top\">1</td>\n",
       "    </tr>\n",
       "</table>\n",
       "[10 rows x 2 columns]<br/>\n",
       "</div>"
      ],
      "text/plain": [
       "Columns:\n",
       "\tpath\tstr\n",
       "\tcount\tint\n",
       "\n",
       "Rows: 10\n",
       "\n",
       "Data:\n",
       "+-------------------------------+-------+\n",
       "|              path             | count |\n",
       "+-------------------------------+-------+\n",
       "| invisible/ADJ/amod<_X/NOUN... |   1   |\n",
       "| X/NOUN/ROOT>_be/VERB/ROOT_... |   2   |\n",
       "| X/PROPN/compound>_battey/P... |   2   |\n",
       "| X/NOUN/ROOT>_release/VERB/... |   2   |\n",
       "| X/NOUN/dep>_be/VERB/ROOT_<... |   4   |\n",
       "| large/ADJ/amod<_X/NOUN/ROO... |   1   |\n",
       "| X/PROPN/compound>_order/PR... |   8   |\n",
       "| X/NOUN/nsubj>_comprise/VER... |   1   |\n",
       "| X/PROPN/ROOT>_create/VERB/... |   1   |\n",
       "| other/ADJ/amod<_X/NOUN/con... |   1   |\n",
       "+-------------------------------+-------+\n",
       "[10 rows x 2 columns]"
      ]
     },
     "execution_count": 31,
     "metadata": {},
     "output_type": "execute_result"
    }
   ],
   "source": [
    "path_counts.head()"
   ]
  },
  {
   "cell_type": "code",
   "execution_count": 32,
   "metadata": {
    "collapsed": false
   },
   "outputs": [],
   "source": [
    "frequent_paths = path_counts[path_counts['count'] >= 5]"
   ]
  },
  {
   "cell_type": "code",
   "execution_count": 33,
   "metadata": {
    "collapsed": false
   },
   "outputs": [
    {
     "data": {
      "text/html": [
       "<div style=\"max-height:1000px;max-width:1500px;overflow:auto;\"><table frame=\"box\" rules=\"cols\">\n",
       "    <tr>\n",
       "        <th style=\"padding-left: 1em; padding-right: 1em; text-align: center\">path</th>\n",
       "        <th style=\"padding-left: 1em; padding-right: 1em; text-align: center\">count</th>\n",
       "    </tr>\n",
       "    <tr>\n",
       "        <td style=\"padding-left: 1em; padding-right: 1em; text-align: center; vertical-align: top\">X/PROPN/compound&gt;_order/P<br>ROPN/ROOT_&lt;Y/PROPN/conj ...</td>\n",
       "        <td style=\"padding-left: 1em; padding-right: 1em; text-align: center; vertical-align: top\">8</td>\n",
       "    </tr>\n",
       "    <tr>\n",
       "        <td style=\"padding-left: 1em; padding-right: 1em; text-align: center; vertical-align: top\">X/PROPN/ROOT&gt;_be/VERB/ROO<br>T_&lt;end/VERB/conj_&lt;in/ ...</td>\n",
       "        <td style=\"padding-left: 1em; padding-right: 1em; text-align: center; vertical-align: top\">8</td>\n",
       "    </tr>\n",
       "    <tr>\n",
       "        <td style=\"padding-left: 1em; padding-right: 1em; text-align: center; vertical-align: top\">X/NOUN/ROOT&gt;_have/VERB/RO<br>OT_&lt;be/VERB/conj_&lt;one ...</td>\n",
       "        <td style=\"padding-left: 1em; padding-right: 1em; text-align: center; vertical-align: top\">5</td>\n",
       "    </tr>\n",
       "    <tr>\n",
       "        <td style=\"padding-left: 1em; padding-right: 1em; text-align: center; vertical-align: top\">X/PROPN/ROOT&gt;_rout/VERB/R<br>OOT_&lt;onto/ADP/prep_&lt;Y ...</td>\n",
       "        <td style=\"padding-left: 1em; padding-right: 1em; text-align: center; vertical-align: top\">8</td>\n",
       "    </tr>\n",
       "    <tr>\n",
       "        <td style=\"padding-left: 1em; padding-right: 1em; text-align: center; vertical-align: top\">X/PROPN/ROOT&gt;_replace/VER<br>B/ROOT_&lt;to/ADP/prep_&lt; ...</td>\n",
       "        <td style=\"padding-left: 1em; padding-right: 1em; text-align: center; vertical-align: top\">6</td>\n",
       "    </tr>\n",
       "    <tr>\n",
       "        <td style=\"padding-left: 1em; padding-right: 1em; text-align: center; vertical-align: top\">X/NOUN/attr&gt;_be/VERB/ROOT<br>_&lt;clump/NOUN/conj_&lt;of ...</td>\n",
       "        <td style=\"padding-left: 1em; padding-right: 1em; text-align: center; vertical-align: top\">8</td>\n",
       "    </tr>\n",
       "    <tr>\n",
       "        <td style=\"padding-left: 1em; padding-right: 1em; text-align: center; vertical-align: top\">X/NOUN/dobj&gt;_start/VERB/R<br>OOT_&lt;confrontation/NO ...</td>\n",
       "        <td style=\"padding-left: 1em; padding-right: 1em; text-align: center; vertical-align: top\">130</td>\n",
       "    </tr>\n",
       "    <tr>\n",
       "        <td style=\"padding-left: 1em; padding-right: 1em; text-align: center; vertical-align: top\">X/NOUN/pobj&gt;_from/ADP/ROO<br>T_&lt;presidency/NOUN/po ...</td>\n",
       "        <td style=\"padding-left: 1em; padding-right: 1em; text-align: center; vertical-align: top\">48</td>\n",
       "    </tr>\n",
       "    <tr>\n",
       "        <td style=\"padding-left: 1em; padding-right: 1em; text-align: center; vertical-align: top\">X/NOUN/attr&gt;_be/VERB/ROOT<br>_&lt;guest/NOUN/attr_&lt;on ...</td>\n",
       "        <td style=\"padding-left: 1em; padding-right: 1em; text-align: center; vertical-align: top\">27</td>\n",
       "    </tr>\n",
       "    <tr>\n",
       "        <td style=\"padding-left: 1em; padding-right: 1em; text-align: center; vertical-align: top\">X/NOUN/ROOT&gt;_remove/VERB/<br>ROOT_&lt;from/ADP/prep_&lt; ...</td>\n",
       "        <td style=\"padding-left: 1em; padding-right: 1em; text-align: center; vertical-align: top\">7</td>\n",
       "    </tr>\n",
       "</table>\n",
       "[10 rows x 2 columns]<br/>\n",
       "</div>"
      ],
      "text/plain": [
       "Columns:\n",
       "\tpath\tstr\n",
       "\tcount\tint\n",
       "\n",
       "Rows: 10\n",
       "\n",
       "Data:\n",
       "+-------------------------------+-------+\n",
       "|              path             | count |\n",
       "+-------------------------------+-------+\n",
       "| X/PROPN/compound>_order/PR... |   8   |\n",
       "| X/PROPN/ROOT>_be/VERB/ROOT... |   8   |\n",
       "| X/NOUN/ROOT>_have/VERB/ROO... |   5   |\n",
       "| X/PROPN/ROOT>_rout/VERB/RO... |   8   |\n",
       "| X/PROPN/ROOT>_replace/VERB... |   6   |\n",
       "| X/NOUN/attr>_be/VERB/ROOT_... |   8   |\n",
       "| X/NOUN/dobj>_start/VERB/RO... |  130  |\n",
       "| X/NOUN/pobj>_from/ADP/ROOT... |   48  |\n",
       "| X/NOUN/attr>_be/VERB/ROOT_... |   27  |\n",
       "| X/NOUN/ROOT>_remove/VERB/R... |   7   |\n",
       "+-------------------------------+-------+\n",
       "[10 rows x 2 columns]"
      ]
     },
     "execution_count": 33,
     "metadata": {},
     "output_type": "execute_result"
    }
   ],
   "source": [
    "frequent_paths.head()"
   ]
  },
  {
   "cell_type": "code",
   "execution_count": 34,
   "metadata": {
    "collapsed": false
   },
   "outputs": [
    {
     "name": "stdout",
     "output_type": "stream",
     "text": [
      "256957055\n",
      "10855414\n",
      "2519717\n"
     ]
    }
   ],
   "source": [
    "print len(sf) # No. of total paths (non-unique)\n",
    "print len(path_counts) # No. of unique paths.\n",
    "print len(frequent_paths) # No. of frequent paths (i.e. >=5)"
   ]
  },
  {
   "cell_type": "code",
   "execution_count": 35,
   "metadata": {
    "collapsed": true
   },
   "outputs": [],
   "source": [
    "if save_munging:\n",
    "    entities.save('wiki-entities-unique-24GB_sframe/')\n",
    "    frequent_paths.save('wiki-freqpaths-unique-24GB_sframe/')\n",
    "    path_counts.save('wiki-paths-unique-24GB_sframe/')"
   ]
  },
  {
   "cell_type": "code",
   "execution_count": 36,
   "metadata": {
    "collapsed": true
   },
   "outputs": [],
   "source": []
  },
  {
   "cell_type": "code",
   "execution_count": 37,
   "metadata": {
    "collapsed": true
   },
   "outputs": [],
   "source": []
  },
  {
   "cell_type": "code",
   "execution_count": null,
   "metadata": {
    "collapsed": true
   },
   "outputs": [],
   "source": []
  }
 ],
 "metadata": {
  "kernelspec": {
   "display_name": "Python 2",
   "language": "python",
   "name": "python2"
  },
  "language_info": {
   "codemirror_mode": {
    "name": "ipython",
    "version": 2
   },
   "file_extension": ".py",
   "mimetype": "text/x-python",
   "name": "python",
   "nbconvert_exporter": "python",
   "pygments_lexer": "ipython2",
   "version": "2.7.12"
  }
 },
 "nbformat": 4,
 "nbformat_minor": 0
}
